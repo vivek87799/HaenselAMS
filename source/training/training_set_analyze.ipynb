{
 "cells": [
  {
   "cell_type": "code",
   "execution_count": 1,
   "metadata": {},
   "outputs": [],
   "source": [
    "import pandas as pd\n",
    "import sqlite3"
   ]
  },
  {
   "cell_type": "code",
   "execution_count": 2,
   "metadata": {},
   "outputs": [],
   "source": [
    "DATA_FOLDER = \"../sources/data/\"\n",
    "db_path = DATA_FOLDER + \"challenge.db\"\n",
    "sql_file_path = DATA_FOLDER + \"challenge_db_create.sql\" \n",
    "conn = sqlite3.connect(db_path)"
   ]
  },
  {
   "cell_type": "code",
   "execution_count": 3,
   "metadata": {},
   "outputs": [],
   "source": [
    "# Loading the data from db for indepth analysis of the dataset\n",
    "\n",
    "df_session_sources = pd.read_sql_query(\"\"\"SELECT * FROM session_sources\"\"\", conn)\n",
    "df_conversions = pd.read_sql_query(\"\"\"SELECT * FROM conversions\"\"\", conn)"
   ]
  },
  {
   "cell_type": "code",
   "execution_count": 11,
   "metadata": {},
   "outputs": [
    {
     "name": "stdout",
     "output_type": "stream",
     "text": [
      "No. of records in df_session_sources: 450616\n",
      "No. of records in df_conversions: 2000\n",
      "<class 'pandas.core.frame.DataFrame'>\n",
      "RangeIndex: 450616 entries, 0 to 450615\n",
      "Data columns (total 8 columns):\n",
      " #   Column                  Non-Null Count   Dtype \n",
      "---  ------                  --------------   ----- \n",
      " 0   session_id              450616 non-null  object\n",
      " 1   user_id                 450616 non-null  object\n",
      " 2   event_date              450616 non-null  object\n",
      " 3   event_time              450616 non-null  object\n",
      " 4   channel_name            450616 non-null  object\n",
      " 5   holder_engagement       450616 non-null  int64 \n",
      " 6   closer_engagement       450616 non-null  int64 \n",
      " 7   impression_interaction  450616 non-null  int64 \n",
      "dtypes: int64(3), object(5)\n",
      "memory usage: 27.5+ MB\n",
      "None\n",
      "<class 'pandas.core.frame.DataFrame'>\n",
      "RangeIndex: 2000 entries, 0 to 1999\n",
      "Data columns (total 5 columns):\n",
      " #   Column     Non-Null Count  Dtype  \n",
      "---  ------     --------------  -----  \n",
      " 0   conv_id    2000 non-null   object \n",
      " 1   user_id    2000 non-null   object \n",
      " 2   conv_date  2000 non-null   object \n",
      " 3   conv_time  2000 non-null   object \n",
      " 4   revenue    2000 non-null   float64\n",
      "dtypes: float64(1), object(4)\n",
      "memory usage: 78.3+ KB\n",
      "None\n"
     ]
    }
   ],
   "source": [
    "# info on the dataframe and datatype of the fields\n",
    "print(f\"No. of records in df_session_sources: {df_session_sources.shape[0]}\")\n",
    "print(f\"No. of records in df_conversions: {df_conversions.shape[0]}\")\n",
    "print(df_session_sources.info())\n",
    "print(df_conversions.info())"
   ]
  },
  {
   "cell_type": "markdown",
   "metadata": {},
   "source": [
    "### Observations\n",
    "- From the results we observe that the we have 2000 customer journeys (The documentation states that we need from 10-100K unique customer journeys). This might not be sufficient to train the parameters well also depends on how the model is trained. (Should also check for the number of sessions in each customer journey)\n",
    "- Date and time are stored separately and should be parsed to datetime"
   ]
  },
  {
   "cell_type": "code",
   "execution_count": 12,
   "metadata": {},
   "outputs": [
    {
     "name": "stdout",
     "output_type": "stream",
     "text": [
      "No. of sessions that are part of a customer journey: 4462\n",
      "No. of sessions that took place before a conversion in a customer journey: 3709\n"
     ]
    }
   ],
   "source": [
    "# 1. Merge the DataFrames\n",
    "merged_df = pd.merge(df_session_sources, df_conversions, on='user_id', how='inner')\n",
    "print(f\"No. of sessions that are part of a customer journey: {merged_df.shape[0]}\")\n",
    "# 2. Filter based on date and time\n",
    "merged_df['event_datetime'] = pd.to_datetime(merged_df['event_date'] + ' ' + merged_df['event_time'])\n",
    "merged_df['conv_datetime'] = pd.to_datetime(merged_df['conv_date'] + ' ' + merged_df['conv_time'])\n",
    "# Eliminating session that happened after the conversion has taken place\n",
    "merged_df = merged_df[\n",
    "    (merged_df['event_datetime'] <= merged_df['conv_datetime'])]\n",
    "print(f\"No. of sessions that took place before a conversion in a customer journey: {merged_df.shape[0]}\")\n",
    "merged_df[\"conversion\"] = (\n",
    "            (merged_df[\"conv_datetime\"] == merged_df[\"event_datetime\"]) \n",
    "        ).astype(int)\n",
    "\n",
    "merged_df[\"timestamp\"] = pd.to_datetime(merged_df[\"event_datetime\"], format=\"%Y-%m-%d %H:%M:%S\").astype(str)\n",
    "\n",
    "# Modifying the columns to match the training dataset\n",
    "merged_df = merged_df.drop([\"user_id\", \"conv_date\", \"event_date\", \"conv_time\", \"event_time\", \"revenue\", \"event_datetime\", \"conv_datetime\"], axis=1)\n",
    "merged_df = merged_df.rename(columns={\"conv_id\": \"conversion_id\", \"channel_name\": \"channel_label\"})\n"
   ]
  },
  {
   "cell_type": "markdown",
   "metadata": {},
   "source": [
    "## Observation\n",
    "- out of 450616 sessions only 4462 sessions are included in a customer journey, of which 3709 Customer Journeys had a conversion other sessions took place after the conversion. "
   ]
  },
  {
   "cell_type": "code",
   "execution_count": 14,
   "metadata": {},
   "outputs": [],
   "source": [
    "training_set_file_path = DATA_FOLDER+'training_set.json'\n",
    "merged_df.to_json(training_set_file_path, orient=\"records\")"
   ]
  },
  {
   "cell_type": "code",
   "execution_count": 26,
   "metadata": {},
   "outputs": [
    {
     "data": {
      "text/plain": [
       "Text(0, 0.5, 'Frequency')"
      ]
     },
     "execution_count": 26,
     "metadata": {},
     "output_type": "execute_result"
    },
    {
     "data": {
      "image/png": "[encoded data removed]",
      "text/plain": [
       "<Figure size 640x480 with 1 Axes>"
      ]
     },
     "metadata": {},
     "output_type": "display_data"
    }
   ],
   "source": [
    "import matplotlib.pyplot as plt\n",
    "# Group the data by `conversion_id`\n",
    "grouped_data = merged_df.groupby('conversion_id').agg(\n",
    "    # Aggregate all unique `session_id` values for each `conversion_id`\n",
    "    session_ids=('session_id', lambda x: list(x.unique())),\n",
    "    # Count the number of unique `session_id` values for each `conversion_id`\n",
    "    num_unique_sessions=('session_id', 'nunique')\n",
    ").reset_index()\n",
    "grouped_data\n",
    "\n",
    "# Plot the histogram\n",
    "plt.hist(grouped_data['num_unique_sessions'])\n",
    "\n",
    "# Set the title\n",
    "plt.title('Distribution of Unique Sessions per Conversion ID')\n",
    "\n",
    "# Set the x and y labels\n",
    "plt.xlabel('Number of Unique Sessions')\n",
    "plt.ylabel('Frequency')\n",
    "\n",
    "# Show the"
   ]
  },
  {
   "cell_type": "code",
   "execution_count": 11,
   "metadata": {},
   "outputs": [],
   "source": [
    "conn = sqlite3.connect(db_path)\n",
    "df = pd.read_sql_query(\"\"\"\n",
    "                          SELECT \n",
    "                              c.conv_id as conversion_id, s.session_id, s.channel_name channel_label, s.holder_engagement, s.closer_engagement,\n",
    "                               c.conv_date, c.conv_time, s.event_date, s.event_time\n",
    "                               \n",
    "                          FROM \n",
    "                               session_sources s \n",
    "                          JOIN \n",
    "                              conversions c ON s.user_id = c.user_id  -- Add the missing JOIN condition\n",
    "                          WHERE\n",
    "                              s.event_date <= c.conv_date \n",
    "                          AND\n",
    "                              s.event_time <= c.conv_time\n",
    "                            \"\"\", conn) "
   ]
  },
  {
   "cell_type": "code",
   "execution_count": 67,
   "metadata": {},
   "outputs": [
    {
     "name": "stdout",
     "output_type": "stream",
     "text": [
      "<class 'pandas.core.frame.DataFrame'>\n",
      "Index: 3709 entries, 0 to 4461\n",
      "Data columns (total 8 columns):\n",
      " #   Column                  Non-Null Count  Dtype \n",
      "---  ------                  --------------  ----- \n",
      " 0   session_id              3709 non-null   object\n",
      " 1   channel_label           3709 non-null   object\n",
      " 2   holder_engagement       3709 non-null   int64 \n",
      " 3   closer_engagement       3709 non-null   int64 \n",
      " 4   impression_interaction  3709 non-null   int64 \n",
      " 5   conversion_id           3709 non-null   object\n",
      " 6   conversion              3709 non-null   int64 \n",
      " 7   timestamp               3709 non-null   object\n",
      "dtypes: int64(4), object(4)\n",
      "memory usage: 389.8+ KB\n"
     ]
    }
   ],
   "source": [
    "merged_df.info()"
   ]
  }
 ],
 "metadata": {
  "kernelspec": {
   "display_name": "venv",
   "language": "python",
   "name": "python3"
  },
  "language_info": {
   "codemirror_mode": {
    "name": "ipython",
    "version": 3
   },
   "file_extension": ".py",
   "mimetype": "text/x-python",
   "name": "python",
   "nbconvert_exporter": "python",
   "pygments_lexer": "ipython3",
   "version": "3.12.3"
  }
 },
 "nbformat": 4,
 "nbformat_minor": 2
}
