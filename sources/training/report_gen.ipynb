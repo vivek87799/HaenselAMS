{
 "cells": [
  {
   "cell_type": "code",
   "execution_count": 3,
   "metadata": {},
   "outputs": [],
   "source": [
    "import pandas as pd\n",
    "import sqlite3"
   ]
  },
  {
   "cell_type": "code",
   "execution_count": 4,
   "metadata": {},
   "outputs": [],
   "source": [
    "DATA_FOLDER = \"../sources/data/\"\n",
    "db_path = DATA_FOLDER + \"challenge.db\"\n",
    "sql_file_path = DATA_FOLDER + \"challenge_db_create.sql\" \n",
    "conn = sqlite3.connect(db_path)"
   ]
  },
  {
   "cell_type": "code",
   "execution_count": 5,
   "metadata": {},
   "outputs": [],
   "source": [
    "session_sources_df = pd.read_sql_query(\"SELECT * FROM session_sources\", conn)\n",
    "session_costs_df = pd.read_sql_query(\"SELECT * FROM session_costs\", conn)\n",
    "attribution_customer_journey_df = pd.read_sql_query(\"SELECT * FROM attribution_customer_journey\", conn)\n",
    "conversions_df = pd.read_sql_query(\"SELECT * FROM conversions\", conn)\n",
    "attribution_customer_journey_df=attribution_customer_journey_df.rename(columns={\"conversion_id\": \"conv_id\"})\n"
   ]
  },
  {
   "cell_type": "code",
   "execution_count": 34,
   "metadata": {},
   "outputs": [
    {
     "name": "stdout",
     "output_type": "stream",
     "text": [
      "                 channel_name        date     cost\n",
      "0    Affiliate & Partnerships  2023-08-29  525.360\n",
      "1    Affiliate & Partnerships  2023-08-30  574.644\n",
      "2    Affiliate & Partnerships  2023-08-31  572.769\n",
      "3    Affiliate & Partnerships  2023-09-01  413.205\n",
      "4    Affiliate & Partnerships  2023-09-02  395.707\n",
      "..                        ...         ...      ...\n",
      "145               YouTube Ads  2023-09-02    0.000\n",
      "146               YouTube Ads  2023-09-03    0.000\n",
      "147               YouTube Ads  2023-09-05    0.000\n",
      "148               YouTube Ads  2023-09-06    0.000\n",
      "149               YouTube Ads  2023-09-07    0.000\n",
      "\n",
      "[150 rows x 3 columns]\n"
     ]
    }
   ],
   "source": [
    "# Fill NaN values in 'cost' with 0\n",
    "session_costs_df['cost'] = session_costs_df['cost'].fillna(0)\n",
    "\n",
    "# Merge the two DataFrames on 'session_id'\n",
    "merged_data = pd.merge(session_sources_df, session_costs_df, on='session_id')\n",
    "\n",
    "# Group by 'channel_name' and 'event_date' and sum the costs\n",
    "channel_reporting_cost = merged_data.groupby(['channel_name', 'event_date'])['cost'].sum().reset_index()\n",
    "\n",
    "# Rename columns to match the desired output\n",
    "channel_reporting_cost = channel_reporting_cost.rename(columns={'event_date': 'date'})\n",
    "\n",
    "# Print the resulting DataFrame\n",
    "print(channel_reporting_cost)"
   ]
  },
  {
   "cell_type": "code",
   "execution_count": 10,
   "metadata": {},
   "outputs": [
    {
     "name": "stdout",
     "output_type": "stream",
     "text": [
      "                 channel_name        date      ihc\n",
      "0    Affiliate & Partnerships  2023-08-29   0.0000\n",
      "1    Affiliate & Partnerships  2023-08-30   0.0000\n",
      "2    Affiliate & Partnerships  2023-08-31   0.4969\n",
      "3    Affiliate & Partnerships  2023-09-01  13.2897\n",
      "4    Affiliate & Partnerships  2023-09-02   6.1631\n",
      "..                        ...         ...      ...\n",
      "112     Untracked Conversions  2023-09-03   9.0000\n",
      "113     Untracked Conversions  2023-09-04  12.0000\n",
      "114     Untracked Conversions  2023-09-05   3.0000\n",
      "115     Untracked Conversions  2023-09-06   6.0000\n",
      "116     Untracked Conversions  2023-09-07  10.0000\n",
      "\n",
      "[117 rows x 3 columns]\n"
     ]
    }
   ],
   "source": [
    "# Merge attribution_customer_journey and session_sources on 'session_id'\n",
    "merged_data = pd.merge(attribution_customer_journey_df, session_sources_df, on='session_id')\n",
    "\n",
    "# Group by 'channel_name' and 'event_date' and sum the 'ihc' values\n",
    "channel_reporting_ihc = merged_data.groupby(['channel_name', 'event_date'])['ihc'].sum().reset_index()\n",
    "\n",
    "# Rename 'event_date' to 'date'\n",
    "channel_reporting_ihc = channel_reporting_ihc.rename(columns={'event_date': 'date'})\n",
    "\n",
    "# Print the resulting DataFrame\n",
    "print(channel_reporting_ihc)"
   ]
  },
  {
   "cell_type": "code",
   "execution_count": 32,
   "metadata": {},
   "outputs": [
    {
     "name": "stdout",
     "output_type": "stream",
     "text": [
      "                 channel_name        date  ihc_revenue\n",
      "0    Affiliate & Partnerships  2023-08-29     0.000000\n",
      "1    Affiliate & Partnerships  2023-08-30     0.000000\n",
      "2    Affiliate & Partnerships  2023-08-31    20.084698\n",
      "3    Affiliate & Partnerships  2023-09-01   630.190266\n",
      "4    Affiliate & Partnerships  2023-09-02   304.572345\n",
      "..                        ...         ...          ...\n",
      "112     Untracked Conversions  2023-09-03   497.900000\n",
      "113     Untracked Conversions  2023-09-04   645.550000\n",
      "114     Untracked Conversions  2023-09-05   107.660000\n",
      "115     Untracked Conversions  2023-09-06   196.980000\n",
      "116     Untracked Conversions  2023-09-07   818.150000\n",
      "\n",
      "[117 rows x 3 columns]\n"
     ]
    }
   ],
   "source": [
    "# Merge conversions and attribution_customer_journey on 'conv_id'\n",
    "merged_conversions = pd.merge(conversions_df, attribution_customer_journey_df, on='conv_id')\n",
    "\n",
    "# Merge the result with session_sources on 'session_id'\n",
    "merged_data = pd.merge(merged_conversions, session_sources_df, on='session_id')\n",
    "\n",
    "# Calculate 'ihc_revenue' by multiplying 'ihc' and 'revenue'\n",
    "merged_data['ihc_revenue'] = merged_data['ihc'] * merged_data['revenue']\n",
    "\n",
    "# Group by 'channel_name' and 'event_date' and sum the 'ihc_revenue'\n",
    "channel_reporting_ihc_revenue = merged_data.groupby(['channel_name', 'event_date'])['ihc_revenue'].sum().reset_index()\n",
    "\n",
    "# Rename 'event_date' to 'date'\n",
    "channel_reporting_ihc_revenue = channel_reporting_ihc_revenue.rename(columns={'event_date': 'date'})\n",
    "\n",
    "# Print the resulting DataFrame\n",
    "print(channel_reporting_ihc_revenue)"
   ]
  },
  {
   "cell_type": "code",
   "execution_count": 6,
   "metadata": {},
   "outputs": [],
   "source": [
    "# --- Calculate channel_reporting_cost ---\n",
    "session_costs_df['cost'] = session_costs_df['cost'].fillna(0)\n",
    "merged_data_cost = pd.merge(session_sources_df, session_costs_df, on='session_id')\n",
    "channel_reporting_cost = merged_data_cost.groupby(['channel_name', 'event_date'])['cost'].sum().reset_index()\n",
    "channel_reporting_cost = channel_reporting_cost.rename(columns={'event_date': 'date'})\n",
    "\n",
    "# --- Calculate channel_reporting_ihc ---\n",
    "merged_data_ihc = pd.merge(attribution_customer_journey_df, session_sources_df, on='session_id')\n",
    "channel_reporting_ihc = merged_data_ihc.groupby(['channel_name', 'event_date'])['ihc'].sum().reset_index()\n",
    "channel_reporting_ihc = channel_reporting_ihc.rename(columns={'event_date': 'date'})\n",
    "\n",
    "# --- Calculate channel_reporting_ihc_revenue ---\n",
    "merged_conversions = pd.merge(conversions_df, attribution_customer_journey_df, on='conv_id')\n",
    "merged_data_revenue = pd.merge(merged_conversions, session_sources_df, on='session_id')\n",
    "merged_data_revenue['ihc_revenue'] = merged_data_revenue['ihc'] * merged_data_revenue['revenue']\n",
    "channel_reporting_ihc_revenue = merged_data_revenue.groupby(['channel_name', 'event_date'])['ihc_revenue'].sum().reset_index()\n",
    "channel_reporting_ihc_revenue = channel_reporting_ihc_revenue.rename(columns={'event_date': 'date'})\n",
    "\n",
    "# --- Merge all KPIs into channel_reporting ---\n",
    "channel_reporting = pd.merge(channel_reporting_cost, channel_reporting_ihc, on=['channel_name', 'date'], how='outer')\n",
    "channel_reporting = pd.merge(channel_reporting, channel_reporting_ihc_revenue, on=['channel_name', 'date'], how='outer')\n",
    "\n",
    "# Round the columns to 3 decimal places\n",
    "channel_reporting['cost'] = channel_reporting['cost'].round(2)\n",
    "channel_reporting['ihc'] = channel_reporting['ihc'].round(3)\n",
    "channel_reporting['ihc_revenue'] = channel_reporting['ihc_revenue'].round(3)"
   ]
  },
  {
   "cell_type": "code",
   "execution_count": 7,
   "metadata": {},
   "outputs": [
    {
     "name": "stdout",
     "output_type": "stream",
     "text": [
      "<class 'pandas.core.frame.DataFrame'>\n",
      "RangeIndex: 150 entries, 0 to 149\n",
      "Data columns (total 5 columns):\n",
      " #   Column        Non-Null Count  Dtype  \n",
      "---  ------        --------------  -----  \n",
      " 0   channel_name  150 non-null    object \n",
      " 1   date          150 non-null    object \n",
      " 2   cost          150 non-null    float64\n",
      " 3   ihc           117 non-null    float64\n",
      " 4   ihc_revenue   117 non-null    float64\n",
      "dtypes: float64(3), object(2)\n",
      "memory usage: 6.0+ KB\n"
     ]
    }
   ],
   "source": [
    "channel_reporting.info()"
   ]
  },
  {
   "cell_type": "code",
   "execution_count": null,
   "metadata": {},
   "outputs": [],
   "source": []
  }
 ],
 "metadata": {
  "kernelspec": {
   "display_name": "venv",
   "language": "python",
   "name": "python3"
  },
  "language_info": {
   "codemirror_mode": {
    "name": "ipython",
    "version": 3
   },
   "file_extension": ".py",
   "mimetype": "text/x-python",
   "name": "python",
   "nbconvert_exporter": "python",
   "pygments_lexer": "ipython3",
   "version": "3.12.3"
  }
 },
 "nbformat": 4,
 "nbformat_minor": 2
}
